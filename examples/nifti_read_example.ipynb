{
 "cells": [
  {
   "cell_type": "markdown",
   "metadata": {},
   "source": [
    "# Nifti Read Example\n",
    "\n",
    "The purpose of this notebook is to illustrate reading Nifti files and iterating over patches of the volumes loaded from them."
   ]
  },
  {
   "cell_type": "code",
   "execution_count": 1,
   "metadata": {},
   "outputs": [
    {
     "name": "stdout",
     "output_type": "stream",
     "text": [
      "MONAI version: 0.0.1\n",
      "Python version: 3.7.3 (default, Mar 27 2019, 22:11:17)  [GCC 7.3.0]\n",
      "Numpy version: 1.16.4\n",
      "Pytorch version: 1.3.1\n",
      "Ignite version: 0.2.1\n"
     ]
    }
   ],
   "source": [
    "%matplotlib inline\n",
    "%load_ext autoreload\n",
    "%autoreload 2\n",
    "\n",
    "import torch\n",
    "import numpy as np\n",
    "import matplotlib.pyplot as plt\n",
    "import os\n",
    "import sys\n",
    "import glob\n",
    "import tempfile\n",
    "\n",
    "import nibabel as nib\n",
    "\n",
    "sys.path.append('..')\n",
    "\n",
    "from monai import application, data, networks, utils\n",
    "\n",
    "application.config.print_config()"
   ]
  },
  {
   "cell_type": "markdown",
   "metadata": {},
   "source": [
    "Define a function for creating test images and segmentations:"
   ]
  },
  {
   "cell_type": "code",
   "execution_count": 2,
   "metadata": {},
   "outputs": [],
   "source": [
    "def create_test_image_3d(height, width, depth, numObjs=12, radMax=30, noiseMax=0.0, numSegClasses=5):\n",
    "    '''Return a noisy 3D image and segmentation.'''\n",
    "    image = np.zeros((width, height,depth))\n",
    "\n",
    "    for i in range(numObjs):\n",
    "        x = np.random.randint(radMax, width - radMax)\n",
    "        y = np.random.randint(radMax, height - radMax)\n",
    "        z = np.random.randint(radMax, depth - radMax)\n",
    "        rad = np.random.randint(5, radMax)\n",
    "        spy, spx, spz = np.ogrid[-x:width - x, -y:height - y, -z:depth - z]\n",
    "        circle = (spx * spx + spy * spy + spz * spz) <= rad * rad\n",
    "\n",
    "        if numSegClasses > 1:\n",
    "            image[circle] = np.ceil(np.random.random() * numSegClasses)\n",
    "        else:\n",
    "            image[circle] = np.random.random() * 0.5 + 0.5\n",
    "\n",
    "    labels = np.ceil(image).astype(np.int32)\n",
    "\n",
    "    norm = np.random.uniform(0, numSegClasses * noiseMax, size=image.shape)\n",
    "    noisyimage = utils.arrayutils.rescale_array(np.maximum(image, norm))\n",
    "\n",
    "    return noisyimage, labels"
   ]
  },
  {
   "cell_type": "markdown",
   "metadata": {},
   "source": [
    "Create a number of test Nifti files "
   ]
  },
  {
   "cell_type": "code",
   "execution_count": 3,
   "metadata": {},
   "outputs": [],
   "source": [
    "tempdir=tempfile.mkdtemp()\n",
    "\n",
    "for i in range(5):\n",
    "    im,seg=create_test_image_3d(256,256,256)\n",
    "    n=nib.Nifti1Image(im,np.eye(4))\n",
    "    nib.save(n,os.path.join(tempdir,'im%i.nii.gz'%i))\n",
    "    n=nib.Nifti1Image(seg,np.eye(4))\n",
    "    nib.save(n,os.path.join(tempdir,'seg%i.nii.gz'%i))"
   ]
  },
  {
   "cell_type": "markdown",
   "metadata": {},
   "source": [
    "Create a stream generator which yields the file paths according to a defined glob pattern:"
   ]
  },
  {
   "cell_type": "code",
   "execution_count": 4,
   "metadata": {},
   "outputs": [
    {
     "name": "stdout",
     "output_type": "stream",
     "text": [
      "[('/tmp/tmpm9s_qy4p/im0.nii.gz',), ('/tmp/tmpm9s_qy4p/im1.nii.gz',), ('/tmp/tmpm9s_qy4p/im2.nii.gz',), ('/tmp/tmpm9s_qy4p/im3.nii.gz',), ('/tmp/tmpm9s_qy4p/im4.nii.gz',)]\n"
     ]
    }
   ],
   "source": [
    "names=os.path.join(tempdir,'im*.nii.gz')\n",
    "gsrc=data.streams.GlobPathGenerator(names,do_once=True)\n",
    "\n",
    "print(list(gsrc))"
   ]
  },
  {
   "cell_type": "markdown",
   "metadata": {},
   "source": [
    "Create a reader which loads the nifti file names as they come from the source:"
   ]
  },
  {
   "cell_type": "code",
   "execution_count": 5,
   "metadata": {},
   "outputs": [
    {
     "name": "stdout",
     "output_type": "stream",
     "text": [
      "(256, 256, 256) float32 /tmp/tmpm9s_qy4p/im0.nii.gz\n",
      "(256, 256, 256) float32 /tmp/tmpm9s_qy4p/im1.nii.gz\n",
      "(256, 256, 256) float32 /tmp/tmpm9s_qy4p/im2.nii.gz\n",
      "(256, 256, 256) float32 /tmp/tmpm9s_qy4p/im3.nii.gz\n",
      "(256, 256, 256) float32 /tmp/tmpm9s_qy4p/im4.nii.gz\n"
     ]
    }
   ],
   "source": [
    "src=data.readers.NiftiCacheReader(gsrc,5,image_only=False)\n",
    "\n",
    "for im in src:\n",
    "    vol,header=im\n",
    "    print(vol.shape,vol.dtype, header['filename_or_obj'])"
   ]
  },
  {
   "cell_type": "markdown",
   "metadata": {},
   "source": [
    "Alternatively create a path generator which reads two sets of names for the images and segmentation, then the reader to load these pairs:"
   ]
  },
  {
   "cell_type": "code",
   "execution_count": 6,
   "metadata": {},
   "outputs": [
    {
     "name": "stdout",
     "output_type": "stream",
     "text": [
      "(256, 256, 256) (256, 256, 256)\n",
      "(256, 256, 256) (256, 256, 256)\n",
      "(256, 256, 256) (256, 256, 256)\n",
      "(256, 256, 256) (256, 256, 256)\n",
      "(256, 256, 256) (256, 256, 256)\n"
     ]
    }
   ],
   "source": [
    "names=os.path.join(tempdir,'im*.nii.gz')\n",
    "segs=os.path.join(tempdir,'seg*.nii.gz')\n",
    "\n",
    "gsrc=data.streams.GlobPathGenerator(names,segs,do_once=True)\n",
    "\n",
    "src=data.readers.NiftiCacheReader(gsrc,5,image_only=True)\n",
    "\n",
    "for im,seg in src:\n",
    "    print(im.shape,seg.shape)"
   ]
  },
  {
   "cell_type": "markdown",
   "metadata": {},
   "source": [
    "Filenames don't need to come from generators, a list of names also works:"
   ]
  },
  {
   "cell_type": "code",
   "execution_count": 7,
   "metadata": {},
   "outputs": [
    {
     "name": "stdout",
     "output_type": "stream",
     "text": [
      "['/tmp/tmpm9s_qy4p/im4.nii.gz', '/tmp/tmpm9s_qy4p/im2.nii.gz', '/tmp/tmpm9s_qy4p/im1.nii.gz', '/tmp/tmpm9s_qy4p/im0.nii.gz', '/tmp/tmpm9s_qy4p/im3.nii.gz']\n",
      "Number of loaded images: 5\n"
     ]
    }
   ],
   "source": [
    "images=glob.glob(os.path.join(tempdir,'im*.nii.gz'))\n",
    "print(images)\n",
    "\n",
    "src=data.readers.NiftiCacheReader(images,5,image_only=True)\n",
    "\n",
    "print('Number of loaded images:',len(tuple(src)))"
   ]
  },
  {
   "cell_type": "markdown",
   "metadata": {},
   "source": [
    "The stream transforms can then be applied to the images coming from the Nifti sources, eg. selecing each 2D image in the XY dimension:"
   ]
  },
  {
   "cell_type": "code",
   "execution_count": 8,
   "metadata": {},
   "outputs": [
    {
     "name": "stdout",
     "output_type": "stream",
     "text": [
      "(256,) (256,)\n"
     ]
    }
   ],
   "source": [
    "dimsrc=data.transforms.patch_streams.select_over_dimension(src)\n",
    "\n",
    "for xy in dimsrc:\n",
    "    print(xy[0].shape,xy[1].shape)\n",
    "    break # only need to see one"
   ]
  },
  {
   "cell_type": "markdown",
   "metadata": {},
   "source": [
    "We can also sample uniform patches from the read volumes:"
   ]
  },
  {
   "cell_type": "code",
   "execution_count": 9,
   "metadata": {},
   "outputs": [
    {
     "name": "stdout",
     "output_type": "stream",
     "text": [
      "(64, 64) (64, 64)\n"
     ]
    }
   ],
   "source": [
    "randsrc=data.transforms.patch_streams.uniform_random_patches(src)\n",
    "\n",
    "for patches in randsrc:\n",
    "    print(patches[0].shape,patches[1].shape)\n",
    "    break # only need to see one"
   ]
  },
  {
   "cell_type": "markdown",
   "metadata": {},
   "source": [
    "Putting it all together into a stream which loads the images only, iterates through the depth dimension of each, and selects 2 random patches from each 2D image:"
   ]
  },
  {
   "cell_type": "code",
   "execution_count": 10,
   "metadata": {},
   "outputs": [
    {
     "name": "stdout",
     "output_type": "stream",
     "text": [
      "(25, 44)\n",
      "Number of 2D images: 2560\n"
     ]
    }
   ],
   "source": [
    "gsrc=data.streams.GlobPathGenerator(names,segs,do_once=True)\n",
    "src=data.readers.NiftiCacheReader(gsrc,5,image_only=True)\n",
    "src=data.transforms.patch_streams.select_over_dimension(src)\n",
    "src=data.transforms.patch_streams.uniform_random_patches(src,(25,44),2)\n",
    "\n",
    "for im in src:\n",
    "    print(im[0].shape)\n",
    "    break\n",
    "    \n",
    "# expected size is 5 * 256 * 2:\n",
    "print('Number of 2D images:',len(tuple(src)))"
   ]
  }
 ],
 "metadata": {
  "kernelspec": {
   "display_name": "Python 3",
   "language": "python",
   "name": "python3"
  },
  "language_info": {
   "codemirror_mode": {
    "name": "ipython",
    "version": 3
   },
   "file_extension": ".py",
   "mimetype": "text/x-python",
   "name": "python",
   "nbconvert_exporter": "python",
   "pygments_lexer": "ipython3",
   "version": "3.7.3"
  }
 },
 "nbformat": 4,
 "nbformat_minor": 4
}
